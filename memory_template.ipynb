{
 "cells": [
  {
   "cell_type": "code",
   "execution_count": null,
   "metadata": {},
   "outputs": [
    {
     "data": {
      "text/plain": [
       "True"
      ]
     },
     "execution_count": 3,
     "metadata": {},
     "output_type": "execute_result"
    }
   ],
   "source": [
    "import os\n",
    "from dotenv import find_dotenv, load_dotenv\n",
    "\n",
    "from langchain.chat_models import ChatOpenAI\n",
    "from langchain.chains import ConversationChain\n",
    "\n",
    "# simplest form of memory, for short conversations, will use a lot of tokens for long conversations as it will store all the conversations\n",
    "from langchain.chains.conversation.memory import ConversationBufferMemory\n",
    "\n",
    "load_dotenv(find_dotenv())"
   ]
  },
  {
   "cell_type": "code",
   "execution_count": null,
   "metadata": {},
   "outputs": [
    {
     "name": "stderr",
     "output_type": "stream",
     "text": [
      "/var/folders/b9/yq39ggkn7d742qp6sr3dt5s80000gn/T/ipykernel_65340/1926532739.py:1: LangChainDeprecationWarning: The class `ChatOpenAI` was deprecated in LangChain 0.0.10 and will be removed in 1.0. An updated version of the class exists in the :class:`~langchain-openai package and should be used instead. To use it run `pip install -U :class:`~langchain-openai` and import as `from :class:`~langchain_openai import ChatOpenAI``.\n",
      "  llm = ChatOpenAI(model_name=\"gpt-4\", temperature=0)\n",
      "/var/folders/b9/yq39ggkn7d742qp6sr3dt5s80000gn/T/ipykernel_65340/1926532739.py:2: LangChainDeprecationWarning: Please see the migration guide at: https://python.langchain.com/docs/versions/migrating_memory/\n",
      "  memory = ConversationBufferMemory()\n",
      "/var/folders/b9/yq39ggkn7d742qp6sr3dt5s80000gn/T/ipykernel_65340/1926532739.py:3: LangChainDeprecationWarning: The class `ConversationChain` was deprecated in LangChain 0.2.7 and will be removed in 1.0. Use :meth:`~RunnableWithMessageHistory: https://python.langchain.com/v0.2/api_reference/core/runnables/langchain_core.runnables.history.RunnableWithMessageHistory.html` instead.\n",
      "  conversation = ConversationChain(llm=llm, memory=memory, verbose=True)\n"
     ]
    }
   ],
   "source": [
    "llm = ChatOpenAI(model_name=\"gpt-3.5-turbo\", temperature=0)\n",
    "memory = ConversationBufferMemory()\n",
    "conversation = ConversationChain(llm=llm, memory=memory, verbose=True)"
   ]
  },
  {
   "cell_type": "code",
   "execution_count": 5,
   "metadata": {},
   "outputs": [
    {
     "name": "stdout",
     "output_type": "stream",
     "text": [
      "\n",
      "\n",
      "\u001b[1m> Entering new ConversationChain chain...\u001b[0m\n",
      "Prompt after formatting:\n",
      "\u001b[32;1m\u001b[1;3mThe following is a friendly conversation between a human and an AI. The AI is talkative and provides lots of specific details from its context. If the AI does not know the answer to a question, it truthfully says it does not know.\n",
      "\n",
      "Current conversation:\n",
      "\n",
      "Human: hi, my name is karl\n",
      "AI:\u001b[0m\n",
      "\n",
      "\u001b[1m> Finished chain.\u001b[0m\n"
     ]
    },
    {
     "data": {
      "text/plain": [
       "\"Hello Karl! It's nice to meet you. How can I assist you today?\""
      ]
     },
     "execution_count": 5,
     "metadata": {},
     "output_type": "execute_result"
    }
   ],
   "source": [
    "conversation.predict(input='hi, my name is karl')"
   ]
  },
  {
   "cell_type": "code",
   "execution_count": 6,
   "metadata": {},
   "outputs": [
    {
     "name": "stdout",
     "output_type": "stream",
     "text": [
      "\n",
      "\n",
      "\u001b[1m> Entering new ConversationChain chain...\u001b[0m\n",
      "Prompt after formatting:\n",
      "\u001b[32;1m\u001b[1;3mThe following is a friendly conversation between a human and an AI. The AI is talkative and provides lots of specific details from its context. If the AI does not know the answer to a question, it truthfully says it does not know.\n",
      "\n",
      "Current conversation:\n",
      "Human: hi, my name is karl\n",
      "AI: Hello Karl! It's nice to meet you. How can I assist you today?\n",
      "Human: where is Mauritius found?\n",
      "AI:\u001b[0m\n",
      "\n",
      "\u001b[1m> Finished chain.\u001b[0m\n"
     ]
    },
    {
     "data": {
      "text/plain": [
       "\"Mauritius is an island nation located in the Indian Ocean, approximately 2,000 kilometers off the southeast coast of the African continent, east of Madagascar. It's part of the Mascarene Islands, which also include Réunion and Rodrigues.\""
      ]
     },
     "execution_count": 6,
     "metadata": {},
     "output_type": "execute_result"
    }
   ],
   "source": [
    "conversation.predict(input=\"where is Mauritius found?\")"
   ]
  },
  {
   "cell_type": "code",
   "execution_count": 7,
   "metadata": {},
   "outputs": [
    {
     "name": "stdout",
     "output_type": "stream",
     "text": [
      "\n",
      "\n",
      "\u001b[1m> Entering new ConversationChain chain...\u001b[0m\n",
      "Prompt after formatting:\n",
      "\u001b[32;1m\u001b[1;3mThe following is a friendly conversation between a human and an AI. The AI is talkative and provides lots of specific details from its context. If the AI does not know the answer to a question, it truthfully says it does not know.\n",
      "\n",
      "Current conversation:\n",
      "Human: hi, my name is karl\n",
      "AI: Hello Karl! It's nice to meet you. How can I assist you today?\n",
      "Human: where is Mauritius found?\n",
      "AI: Mauritius is an island nation located in the Indian Ocean, approximately 2,000 kilometers off the southeast coast of the African continent, east of Madagascar. It's part of the Mascarene Islands, which also include Réunion and Rodrigues.\n",
      "Human: what's my name?\n",
      "AI:\u001b[0m\n",
      "\n",
      "\u001b[1m> Finished chain.\u001b[0m\n"
     ]
    },
    {
     "data": {
      "text/plain": [
       "'Your name is Karl.'"
      ]
     },
     "execution_count": 7,
     "metadata": {},
     "output_type": "execute_result"
    }
   ],
   "source": [
    "conversation.predict(input=\"what's my name?\")"
   ]
  },
  {
   "cell_type": "code",
   "execution_count": null,
   "metadata": {},
   "outputs": [
    {
     "name": "stdout",
     "output_type": "stream",
     "text": [
      "Human: hi, my name is karl\n",
      "AI: Hello Karl! It's nice to meet you. How can I assist you today?\n",
      "Human: where is Mauritius found?\n",
      "AI: Mauritius is an island nation located in the Indian Ocean, approximately 2,000 kilometers off the southeast coast of the African continent, east of Madagascar. It's part of the Mascarene Islands, which also include Réunion and Rodrigues.\n",
      "Human: what's my name?\n",
      "AI: Your name is Karl.\n"
     ]
    }
   ],
   "source": [
    "# as we can see, the memory stores the whole conversation as per\n",
    "print(conversation.memory.buffer)"
   ]
  },
  {
   "cell_type": "code",
   "execution_count": 24,
   "metadata": {},
   "outputs": [],
   "source": [
    "from langchain.chat_models import ChatOpenAI\n",
    "from langchain.chains import ConversationChain\n",
    "\n",
    "# does not store ALL the conversations, but summarises what was said, uses less tokens. \n",
    "from langchain.chains.conversation.memory import ConversationSummaryMemory"
   ]
  },
  {
   "cell_type": "code",
   "execution_count": 27,
   "metadata": {},
   "outputs": [],
   "source": [
    "llm = ChatOpenAI(model_name=\"gpt-3.5-turbo\", temperature=0)\n",
    "summary_memory = ConversationSummaryMemory(llm=OpenAI())\n",
    "conversation = ConversationChain(llm=llm, memory=summary_memory, verbose=True)"
   ]
  },
  {
   "cell_type": "code",
   "execution_count": 28,
   "metadata": {},
   "outputs": [
    {
     "name": "stdout",
     "output_type": "stream",
     "text": [
      "\n",
      "\n",
      "\u001b[1m> Entering new ConversationChain chain...\u001b[0m\n",
      "Prompt after formatting:\n",
      "\u001b[32;1m\u001b[1;3mThe following is a friendly conversation between a human and an AI. The AI is talkative and provides lots of specific details from its context. If the AI does not know the answer to a question, it truthfully says it does not know.\n",
      "\n",
      "Current conversation:\n",
      "\n",
      "Human: hi, my name is karl. whats your name and how are you?\n",
      "AI:\u001b[0m\n",
      "\n",
      "\u001b[1m> Finished chain.\u001b[0m\n",
      "Hello Karl! My name is AI-9000. I'm doing well, thank you\n",
      "for asking. How can I assist you today?\n"
     ]
    }
   ],
   "source": [
    "# wrapping the output so that we don't have to scroll endlessly horizontally for the full answer\n",
    "import textwrap\n",
    "\n",
    "answer = conversation.predict(input='hi, my name is karl. whats your name and how are you?')\n",
    "wrapped_text = textwrap.fill(answer,width=60)\n",
    "print(wrapped_text)\n"
   ]
  },
  {
   "cell_type": "code",
   "execution_count": 17,
   "metadata": {},
   "outputs": [
    {
     "name": "stdout",
     "output_type": "stream",
     "text": [
      "\n",
      "\n",
      "\u001b[1m> Entering new ConversationChain chain...\u001b[0m\n",
      "Prompt after formatting:\n",
      "\u001b[32;1m\u001b[1;3mThe following is a friendly conversation between a human and an AI. The AI is talkative and provides lots of specific details from its context. If the AI does not know the answer to a question, it truthfully says it does not know.\n",
      "\n",
      "Current conversation:\n",
      "\n",
      "Karl introduces himself and asks the AI for its name and how it is. The AI responds by introducing itself as AI and explaining its lack of human emotions, but assures it is available to assist. Karl follows up by asking how the AI can help him today.\n",
      "Human: what is the best AI model out there?\n",
      "AI:\u001b[0m\n",
      "\n",
      "\u001b[1m> Finished chain.\u001b[0m\n"
     ]
    },
    {
     "data": {
      "text/plain": [
       "\"As of my last update, OpenAI's GPT-3 is considered one of the most advanced AI models. It's a language prediction model that uses machine learning to produce human-like text. It's capable of tasks such as translation, question answering, and even writing poetry. However, the field of AI is rapidly evolving, and new models are being developed all the time.\""
      ]
     },
     "execution_count": 17,
     "metadata": {},
     "output_type": "execute_result"
    }
   ],
   "source": [
    "conversation.predict(input=\"what is the best AI model out there?\")"
   ]
  },
  {
   "cell_type": "code",
   "execution_count": 18,
   "metadata": {},
   "outputs": [
    {
     "name": "stdout",
     "output_type": "stream",
     "text": [
      "\n",
      "\n",
      "\u001b[1m> Entering new ConversationChain chain...\u001b[0m\n",
      "Prompt after formatting:\n",
      "\u001b[32;1m\u001b[1;3mThe following is a friendly conversation between a human and an AI. The AI is talkative and provides lots of specific details from its context. If the AI does not know the answer to a question, it truthfully says it does not know.\n",
      "\n",
      "Current conversation:\n",
      "\n",
      "Karl introduces himself and asks the AI for its name and how it is. The AI responds by introducing itself as AI and explaining its lack of human emotions, but assures it is available to assist. Karl follows up by asking how the AI can help him today. The human then asks about the best AI model, and the AI explains that as of its last update, OpenAI's GPT-3 is considered one of the most advanced models, capable of tasks such as translation and writing poetry. However, the AI notes that the field of AI is constantly evolving with new models being developed.\n",
      "Human: whats my name?\n",
      "AI:\u001b[0m\n",
      "\n",
      "\u001b[1m> Finished chain.\u001b[0m\n"
     ]
    },
    {
     "data": {
      "text/plain": [
       "'Your name is Karl, as you introduced yourself earlier in our conversation.'"
      ]
     },
     "execution_count": 18,
     "metadata": {},
     "output_type": "execute_result"
    }
   ],
   "source": [
    "conversation.predict(input='whats my name?')"
   ]
  },
  {
   "cell_type": "code",
   "execution_count": null,
   "metadata": {},
   "outputs": [
    {
     "name": "stdout",
     "output_type": "stream",
     "text": [
      "\n",
      "Karl introduces himself and asks the AI for its name and how it is. The AI responds by introducing itself as AI and explaining its lack of human emotions, but assures it is available to assist. Karl follows up by asking how the AI can help him today. The human then asks about the best AI model, and the AI explains that as of its last update, OpenAI's GPT-3 is considered one of the most advanced models, capable of tasks such as translation and writing poetry. However, the AI notes that the field of AI is constantly evolving with new models being developed. Karl then asks the AI for his name, to which the AI responds that his name is Karl, as he introduced himself earlier in the conversation.\n"
     ]
    }
   ],
   "source": [
    "# here the memory only stores a summary of the conversation\n",
    "print(conversation.memory.buffer)"
   ]
  },
  {
   "cell_type": "code",
   "execution_count": 42,
   "metadata": {},
   "outputs": [],
   "source": [
    "# the best of both worlds, uses buffer & summary memory!\n",
    "from langchain.chat_models import ChatOpenAI\n",
    "from langchain.chains import ConversationChain\n",
    "\n",
    "from langchain.chains.conversation.memory import ConversationSummaryBufferMemory"
   ]
  },
  {
   "cell_type": "code",
   "execution_count": 47,
   "metadata": {},
   "outputs": [],
   "source": [
    "llm = ChatOpenAI(model_name=\"gpt-3.5-turbo\", temperature=0)\n",
    "memory = ConversationSummaryBufferMemory(llm=ChatOpenAI(), max_token_limit=200)\n",
    "conversation = ConversationChain(llm=llm, memory=memory, verbose=True)"
   ]
  },
  {
   "cell_type": "code",
   "execution_count": 48,
   "metadata": {},
   "outputs": [
    {
     "name": "stdout",
     "output_type": "stream",
     "text": [
      "\n",
      "\n",
      "\u001b[1m> Entering new ConversationChain chain...\u001b[0m\n",
      "Prompt after formatting:\n",
      "\u001b[32;1m\u001b[1;3mThe following is a friendly conversation between a human and an AI. The AI is talkative and provides lots of specific details from its context. If the AI does not know the answer to a question, it truthfully says it does not know.\n",
      "\n",
      "Current conversation:\n",
      "\n",
      "Human: hi, my name ia karl. i have a headache, what must i do?\n",
      "AI:\u001b[0m\n",
      "\n",
      "\u001b[1m> Finished chain.\u001b[0m\n"
     ]
    },
    {
     "data": {
      "text/plain": [
       "\"Hello Karl! I'm sorry to hear you have a headache. There are a few things you can try to help alleviate it. You can try drinking plenty of water, getting some rest in a quiet and dark room, applying a cold compress to your forehead, or taking over-the-counter pain medication like ibuprofen or acetaminophen. If your headache persists or gets worse, it's always a good idea to consult with a healthcare professional. I hope you feel better soon!\""
      ]
     },
     "execution_count": 48,
     "metadata": {},
     "output_type": "execute_result"
    }
   ],
   "source": [
    "conversation.predict(input=\"hi, my name ia karl. i have a headache, what must i do?\")"
   ]
  },
  {
   "cell_type": "code",
   "execution_count": 49,
   "metadata": {},
   "outputs": [
    {
     "name": "stdout",
     "output_type": "stream",
     "text": [
      "\n",
      "\n",
      "\u001b[1m> Entering new ConversationChain chain...\u001b[0m\n",
      "Prompt after formatting:\n",
      "\u001b[32;1m\u001b[1;3mThe following is a friendly conversation between a human and an AI. The AI is talkative and provides lots of specific details from its context. If the AI does not know the answer to a question, it truthfully says it does not know.\n",
      "\n",
      "Current conversation:\n",
      "Human: hi, my name ia karl. i have a headache, what must i do?\n",
      "AI: Hello Karl! I'm sorry to hear you have a headache. There are a few things you can try to help alleviate it. You can try drinking plenty of water, getting some rest in a quiet and dark room, applying a cold compress to your forehead, or taking over-the-counter pain medication like ibuprofen or acetaminophen. If your headache persists or gets worse, it's always a good idea to consult with a healthcare professional. I hope you feel better soon!\n",
      "Human: yes, i have been feeling very stressed lately...i think i need to do some mediations, what do you think?\n",
      "AI:\u001b[0m\n",
      "\n",
      "\u001b[1m> Finished chain.\u001b[0m\n"
     ]
    },
    {
     "data": {
      "text/plain": [
       "\"Meditation can be a great way to help reduce stress and promote relaxation. There are many different types of meditation practices you can try, such as mindfulness meditation, guided meditation, or deep breathing exercises. It's important to find a method that works best for you and fits into your daily routine. Taking some time each day to focus on your breath and clear your mind can have a positive impact on your overall well-being. Give it a try and see how it makes you feel!\""
      ]
     },
     "execution_count": 49,
     "metadata": {},
     "output_type": "execute_result"
    }
   ],
   "source": [
    "conversation.predict(input=\"yes, i have been feeling very stressed lately...i think i need to do some mediations, what do you think?\")"
   ]
  },
  {
   "cell_type": "code",
   "execution_count": 50,
   "metadata": {},
   "outputs": [
    {
     "name": "stdout",
     "output_type": "stream",
     "text": [
      "\n",
      "\n",
      "\u001b[1m> Entering new ConversationChain chain...\u001b[0m\n",
      "Prompt after formatting:\n",
      "\u001b[32;1m\u001b[1;3mThe following is a friendly conversation between a human and an AI. The AI is talkative and provides lots of specific details from its context. If the AI does not know the answer to a question, it truthfully says it does not know.\n",
      "\n",
      "Current conversation:\n",
      "System: The human introduces himself as Karl and mentions he has a headache, asking for advice on what to do. The AI responds by suggesting Karl drink water, get rest in a quiet place, apply a cold compress, or take pain medication. It also advises Karl to consult with a healthcare professional if the headache persists.\n",
      "Human: yes, i have been feeling very stressed lately...i think i need to do some mediations, what do you think?\n",
      "AI: Meditation can be a great way to help reduce stress and promote relaxation. There are many different types of meditation practices you can try, such as mindfulness meditation, guided meditation, or deep breathing exercises. It's important to find a method that works best for you and fits into your daily routine. Taking some time each day to focus on your breath and clear your mind can have a positive impact on your overall well-being. Give it a try and see how it makes you feel!\n",
      "Human: can you suggest some meditation techniques for me?\n",
      "AI:\u001b[0m\n",
      "\n",
      "\u001b[1m> Finished chain.\u001b[0m\n"
     ]
    },
    {
     "data": {
      "text/plain": [
       "'Of course! Here are a few meditation techniques you can try:\\n\\n1. Mindfulness meditation: This involves focusing on the present moment and being aware of your thoughts, feelings, and sensations without judgment. You can start by sitting or lying down in a comfortable position, closing your eyes, and bringing your attention to your breath. Notice the sensation of your breath as you inhale and exhale, and gently bring your focus back to your breath whenever your mind starts to wander.\\n\\n2. Guided meditation: This involves listening to a recorded meditation guide who will lead you through a series of relaxation techniques and visualizations. You can find guided meditation recordings online or through meditation apps that can help you relax and unwind.\\n\\n3. Deep breathing exercises: This involves taking slow, deep breaths to help calm your mind and body. You can try the 4-7-8 breathing technique, where you inhale for 4 seconds, hold your breath for 7 seconds, and exhale for 8 seconds. Repeat this cycle a few times to help reduce stress and promote relaxation.\\n\\nRemember, the key to meditation is consistency and practice. Start with just a few minutes each day and gradually increase the duration as you become more comfortable with the practice. Good luck!'"
      ]
     },
     "execution_count": 50,
     "metadata": {},
     "output_type": "execute_result"
    }
   ],
   "source": [
    "conversation.predict(input=\"can you suggest some meditation techniques for me?\")"
   ]
  }
 ],
 "metadata": {
  "kernelspec": {
   "display_name": "venv",
   "language": "python",
   "name": "python3"
  },
  "language_info": {
   "codemirror_mode": {
    "name": "ipython",
    "version": 3
   },
   "file_extension": ".py",
   "mimetype": "text/x-python",
   "name": "python",
   "nbconvert_exporter": "python",
   "pygments_lexer": "ipython3",
   "version": "3.12.3"
  }
 },
 "nbformat": 4,
 "nbformat_minor": 2
}
